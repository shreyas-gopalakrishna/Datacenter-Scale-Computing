{
 "cells": [
  {
   "cell_type": "markdown",
   "metadata": {},
   "source": [
    "# CSCI 4253 / 5253 - Lab #4 - Patent Problem with Spark RDD\n",
    "<div>\n",
    " <h2> CSCI 4283 / 5253 \n",
    "  <IMG SRC=\"https://www.colorado.edu/cs/profiles/express/themes/cuspirit/logo.png\" WIDTH=50 ALIGN=\"right\"/> </h2>\n",
    "</div>"
   ]
  },
  {
   "cell_type": "markdown",
   "metadata": {},
   "source": [
    "### Solution using RDD: Shreyas Gopalakrishna"
   ]
  },
  {
   "cell_type": "markdown",
   "metadata": {},
   "source": [
    "This [Spark cheatsheet](https://s3.amazonaws.com/assets.datacamp.com/blog_assets/PySpark_SQL_Cheat_Sheet_Python.pdf) is useful"
   ]
  },
  {
   "cell_type": "code",
   "execution_count": 1,
   "metadata": {},
   "outputs": [],
   "source": [
    "from pyspark import SparkContext, SparkConf\n",
    "import numpy as np\n",
    "import operator"
   ]
  },
  {
   "cell_type": "code",
   "execution_count": 2,
   "metadata": {},
   "outputs": [],
   "source": [
    "conf=SparkConf().setAppName(\"Lab4-rddd\").setMaster(\"local[*]\")\n",
    "sc = SparkContext(conf=conf)"
   ]
  },
  {
   "cell_type": "markdown",
   "metadata": {},
   "source": [
    "Using PySpark and RDD's on the https://coding.csel.io machines is very slow -- most of the code is executed in Python and this is much less efficient than the java-based code using the PySpark dataframes. Be patient and trying using `.cache()` to cache the output of joins. You may want to start with a reduced set of data before running the full task.\n",
    "\n",
    "To that end, we've included code to just extract the last 200,000 lines of each file below using the Python \"slice\" notation. Using that subset of the data your \"new patent\" table should look like:\n",
    "\n",
    "![Top partial 10 RDD self-state citations](top-subsample-rdd.png)\n",
    "\n",
    "When you're ready to run the whole thing, just include all the data and run it again (...and wait...)."
   ]
  },
  {
   "cell_type": "markdown",
   "metadata": {},
   "source": [
    "These two RDD's are called \"rawCitations\" and \"rawPatents\" because you probably want to process them futher (e.g. convert them to integer types, etc). If you haven't used Python \"byte\" types before, google it. You can convert a byte variable `x` into e.g. a UTF8 string using `x.decode('uft-8')`."
   ]
  },
  {
   "cell_type": "code",
   "execution_count": 3,
   "metadata": {},
   "outputs": [],
   "source": [
    "import gzip\n",
    "with gzip.open('cite75_99.txt.gz', 'r') as f:\n",
    "    rddCitations = sc.parallelize( f.readlines()[-800000:])"
   ]
  },
  {
   "cell_type": "code",
   "execution_count": 4,
   "metadata": {},
   "outputs": [],
   "source": [
    "with gzip.open('apat63_99.txt.gz', 'r') as f:\n",
    "    rddPatents = sc.parallelize( f.readlines()[-800000:])"
   ]
  },
  {
   "cell_type": "markdown",
   "metadata": {},
   "source": [
    "#### Decoding to get in utf-8 format"
   ]
  },
  {
   "cell_type": "code",
   "execution_count": 5,
   "metadata": {},
   "outputs": [
    {
     "data": {
      "text/plain": [
       "'5935430,5453769'"
      ]
     },
     "execution_count": 5,
     "metadata": {},
     "output_type": "execute_result"
    }
   ],
   "source": [
    "rddCitations.take(1)[0].decode(\"utf-8\").replace('\\n','')"
   ]
  },
  {
   "cell_type": "code",
   "execution_count": 6,
   "metadata": {},
   "outputs": [
    {
     "data": {
      "text/plain": [
       "[b'5200108,1993,12149,1989,\"JP\",\"\",265595,3,6,252,1,19,8,12,1,0.4028,0.6875,4.4167,3.125,0.875,0.875,0.3333,0.3333\\n']"
      ]
     },
     "execution_count": 6,
     "metadata": {},
     "output_type": "execute_result"
    }
   ],
   "source": [
    "rddPatents.take(1)"
   ]
  },
  {
   "cell_type": "code",
   "execution_count": 7,
   "metadata": {},
   "outputs": [],
   "source": [
    "rddCitations = rddCitations.map(lambda xs: xs.decode(\"utf-8\").replace('\\n',''))\n",
    "rddPatents = rddPatents.map(lambda xs: xs.decode(\"utf-8\").replace('\\n',''))"
   ]
  },
  {
   "cell_type": "code",
   "execution_count": 8,
   "metadata": {},
   "outputs": [
    {
     "data": {
      "text/plain": [
       "['5935430,5453769',\n",
       " '5935430,5500071',\n",
       " '5935430,5567868',\n",
       " '5935430,5571410',\n",
       " '5935430,5595650',\n",
       " '5935430,5792943',\n",
       " '5935430,5888390',\n",
       " '5935431,4141830',\n",
       " '5935431,4156652',\n",
       " '5935431,4179616']"
      ]
     },
     "execution_count": 8,
     "metadata": {},
     "output_type": "execute_result"
    }
   ],
   "source": [
    "rddCitations.take(10)"
   ]
  },
  {
   "cell_type": "code",
   "execution_count": 9,
   "metadata": {},
   "outputs": [
    {
     "data": {
      "text/plain": [
       "['5200108,1993,12149,1989,\"JP\",\"\",265595,3,6,252,1,19,8,12,1,0.4028,0.6875,4.4167,3.125,0.875,0.875,0.3333,0.3333',\n",
       " '5200109,1993,12149,1992,\"JP\",\"\",87490,3,201,252,1,19,2,9,1,0,0.5,3.1111,6,1,0.5,0.4444,0.4444',\n",
       " '5200110,1993,12149,1992,\"JP\",\"\",503380,3,20,252,1,19,5,1,1,0,0.32,3,4,0.4,0.4,0,0',\n",
       " '5200111,1993,12149,1989,\"JP\",\"\",39150,3,2,252,1,19,3,0,1,,0.6667,,5,0,0,,',\n",
       " '5200112,1993,12149,1991,\"US\",\"NY\",280070,2,19,252,1,19,1,13,1,0.8521,0,4,2,0,0,0.1667,0.1538',\n",
       " '5200113,1993,12149,1989,\"DE\",\"\",104245,2,25,252,1,19,8,1,1,0,0.6563,6,10.5,0.8571,0.75,0,0',\n",
       " '5200114,1993,12149,1991,\"US\",\"PA\",350970,2,7,510,1,19,15,3,0.8,0.6667,0.7778,3.3333,15.0667,0,0,0,0',\n",
       " '5200115,1993,12149,1991,\"DE\",\"\",247990,3,12,510,1,19,10,4,1,0.375,0.18,4.25,4.7,0.5,0.5,0.25,0.25',\n",
       " '5200116,1993,12149,1990,\"GB\",\"\",450155,2,25,252,1,19,16,29,1,0.3615,0.75,4.6552,10.9375,0.2,0.1875,0.1724,0.1724',\n",
       " '5200117,1993,12149,1992,\"US\",\"TX\",381140,2,16,510,1,19,18,7,0.9444,0.7347,0.7889,4,13.6111,0,0,0,0']"
      ]
     },
     "execution_count": 9,
     "metadata": {},
     "output_type": "execute_result"
    }
   ],
   "source": [
    "rddPatents.take(10)"
   ]
  },
  {
   "cell_type": "markdown",
   "metadata": {},
   "source": [
    "#### Data formtting to store as key value pair"
   ]
  },
  {
   "cell_type": "code",
   "execution_count": 10,
   "metadata": {},
   "outputs": [
    {
     "data": {
      "text/plain": [
       "[(5200108,\n",
       "  '1993,12149,1989,\"JP\",\"\",265595,3,6,252,1,19,8,12,1,0.4028,0.6875,4.4167,3.125,0.875,0.875,0.3333,0.3333'),\n",
       " (5200109,\n",
       "  '1993,12149,1992,\"JP\",\"\",87490,3,201,252,1,19,2,9,1,0,0.5,3.1111,6,1,0.5,0.4444,0.4444'),\n",
       " (5200110,\n",
       "  '1993,12149,1992,\"JP\",\"\",503380,3,20,252,1,19,5,1,1,0,0.32,3,4,0.4,0.4,0,0'),\n",
       " (5200111,\n",
       "  '1993,12149,1989,\"JP\",\"\",39150,3,2,252,1,19,3,0,1,,0.6667,,5,0,0,,'),\n",
       " (5200112,\n",
       "  '1993,12149,1991,\"US\",\"NY\",280070,2,19,252,1,19,1,13,1,0.8521,0,4,2,0,0,0.1667,0.1538'),\n",
       " (5200113,\n",
       "  '1993,12149,1989,\"DE\",\"\",104245,2,25,252,1,19,8,1,1,0,0.6563,6,10.5,0.8571,0.75,0,0'),\n",
       " (5200114,\n",
       "  '1993,12149,1991,\"US\",\"PA\",350970,2,7,510,1,19,15,3,0.8,0.6667,0.7778,3.3333,15.0667,0,0,0,0'),\n",
       " (5200115,\n",
       "  '1993,12149,1991,\"DE\",\"\",247990,3,12,510,1,19,10,4,1,0.375,0.18,4.25,4.7,0.5,0.5,0.25,0.25'),\n",
       " (5200116,\n",
       "  '1993,12149,1990,\"GB\",\"\",450155,2,25,252,1,19,16,29,1,0.3615,0.75,4.6552,10.9375,0.2,0.1875,0.1724,0.1724'),\n",
       " (5200117,\n",
       "  '1993,12149,1992,\"US\",\"TX\",381140,2,16,510,1,19,18,7,0.9444,0.7347,0.7889,4,13.6111,0,0,0,0')]"
      ]
     },
     "execution_count": 10,
     "metadata": {},
     "output_type": "execute_result"
    }
   ],
   "source": [
    "xxx = rddCitations.map(lambda xs: (int(xs.split(',')[0]),int(xs.split(',')[1])))\n",
    "yyy = rddPatents.map(lambda xs: (int(xs.split(',')[0]),','.join(xs.split(',')[1:])))\n",
    "yyy.take(10)"
   ]
  },
  {
   "cell_type": "markdown",
   "metadata": {},
   "source": [
    "#### Joining Citations data with Patent data such that the citing number matches the patent info"
   ]
  },
  {
   "cell_type": "code",
   "execution_count": 11,
   "metadata": {},
   "outputs": [
    {
     "data": {
      "text/plain": [
       "[(5935432,\n",
       "  (3064647,\n",
       "   '1999,14466,1997,\"DK\",\"\",76070,2,,210,1,19,31,0,0.9677,,0.7889,,14.9677,0,0,,'))]"
      ]
     },
     "execution_count": 11,
     "metadata": {},
     "output_type": "execute_result"
    }
   ],
   "source": [
    "rdd3 = xxx.join(yyy)\n",
    "rdd3.take(1)"
   ]
  },
  {
   "cell_type": "code",
   "execution_count": 12,
   "metadata": {},
   "outputs": [
    {
     "data": {
      "text/plain": [
       "[(5935432,\n",
       "  (3064647,\n",
       "   '1999,14466,1997,\"DK\",\"\",76070,2,,210,1,19,31,0,0.9677,,0.7889,,14.9677,0,0,,')),\n",
       " (5935432,\n",
       "  (3078847,\n",
       "   '1999,14466,1997,\"DK\",\"\",76070,2,,210,1,19,31,0,0.9677,,0.7889,,14.9677,0,0,,')),\n",
       " (5935432,\n",
       "  (3799342,\n",
       "   '1999,14466,1997,\"DK\",\"\",76070,2,,210,1,19,31,0,0.9677,,0.7889,,14.9677,0,0,,')),\n",
       " (5935432,\n",
       "  (3908893,\n",
       "   '1999,14466,1997,\"DK\",\"\",76070,2,,210,1,19,31,0,0.9677,,0.7889,,14.9677,0,0,,')),\n",
       " (5935432,\n",
       "  (3911918,\n",
       "   '1999,14466,1997,\"DK\",\"\",76070,2,,210,1,19,31,0,0.9677,,0.7889,,14.9677,0,0,,')),\n",
       " (5935432,\n",
       "  (3932277,\n",
       "   '1999,14466,1997,\"DK\",\"\",76070,2,,210,1,19,31,0,0.9677,,0.7889,,14.9677,0,0,,')),\n",
       " (5935432,\n",
       "  (4086924,\n",
       "   '1999,14466,1997,\"DK\",\"\",76070,2,,210,1,19,31,0,0.9677,,0.7889,,14.9677,0,0,,')),\n",
       " (5935432,\n",
       "  (4141887,\n",
       "   '1999,14466,1997,\"DK\",\"\",76070,2,,210,1,19,31,0,0.9677,,0.7889,,14.9677,0,0,,')),\n",
       " (5935432,\n",
       "  (4300717,\n",
       "   '1999,14466,1997,\"DK\",\"\",76070,2,,210,1,19,31,0,0.9677,,0.7889,,14.9677,0,0,,')),\n",
       " (5935432,\n",
       "  (4359049,\n",
       "   '1999,14466,1997,\"DK\",\"\",76070,2,,210,1,19,31,0,0.9677,,0.7889,,14.9677,0,0,,'))]"
      ]
     },
     "execution_count": 12,
     "metadata": {},
     "output_type": "execute_result"
    }
   ],
   "source": [
    "rdd3.take(10)"
   ]
  },
  {
   "cell_type": "markdown",
   "metadata": {},
   "source": [
    "#### Rearranging data as (cited,(citing,citing State))"
   ]
  },
  {
   "cell_type": "code",
   "execution_count": 13,
   "metadata": {},
   "outputs": [
    {
     "data": {
      "text/plain": [
       "[(3064647, (5935432, '\"\"')), (3078847, (5935432, '\"\"'))]"
      ]
     },
     "execution_count": 13,
     "metadata": {},
     "output_type": "execute_result"
    }
   ],
   "source": [
    "aaa = rdd3.map(lambda xs: (xs[1][0],(xs[0],xs[1][1].split(',')[4])))\n",
    "aaa.take(2)"
   ]
  },
  {
   "cell_type": "markdown",
   "metadata": {},
   "source": [
    "#### Joining the table with Patent data such that the cited number matches the patent info"
   ]
  },
  {
   "cell_type": "code",
   "execution_count": 14,
   "metadata": {},
   "outputs": [
    {
     "data": {
      "text/plain": [
       "[(5304348,\n",
       "  ((5935432, '\"\"'),\n",
       "   '1994,12527,1992,\"US\",\"CA\",540,2,15,422,1,19,18,7,1,0.6122,0.5926,4.4286,7.1667,0.0833,0.0556,0.2857,0.2857')),\n",
       " (5304348,\n",
       "  ((6002475, '\"OH\"'),\n",
       "   '1994,12527,1992,\"US\",\"CA\",540,2,15,422,1,19,18,7,1,0.6122,0.5926,4.4286,7.1667,0.0833,0.0556,0.2857,0.2857')),\n",
       " (5304348,\n",
       "  ((5958253, '\"\"'),\n",
       "   '1994,12527,1992,\"US\",\"CA\",540,2,15,422,1,19,18,7,1,0.6122,0.5926,4.4286,7.1667,0.0833,0.0556,0.2857,0.2857')),\n",
       " (5540244,\n",
       "  ((5935536, '\"FL\"'),\n",
       "   '1996,13360,1993,\"US\",\"AR\",7701,2,7,134,6,69,19,2,0.9474,0,0.8519,4.5,16.6316,0.0714,0.0526,0,0')),\n",
       " (5413788,\n",
       "  ((5935608, '\"\"'),\n",
       "   '1995,12912,1989,\"GB\",\"\",296280,3,8,424,3,31,7,2,0.7143,0,0.32,7,24.1429,0.6667,0.2857,0,0')),\n",
       " (5366736,\n",
       "  ((5935624, '\"WI\"'),\n",
       "   '1994,12744,1993,\"US\",\"GA\",599530,2,20,424,3,31,1,4,1,0,0,3.75,3,0,0,0,0')),\n",
       " (5366736,\n",
       "  ((5968565, '\"OK\"'),\n",
       "   '1994,12744,1993,\"US\",\"GA\",599530,2,20,424,3,31,1,4,1,0,0,3.75,3,0,0,0,0')),\n",
       " (5500668,\n",
       "  ((5935688, '\"\"'),\n",
       "   '1996,13227,1994,\"CA\",\"\",635240,2,20,347,2,23,17,9,1,0.7901,0.6644,2,8.2941,0.2,0.1765,0.625,0.5556')),\n",
       " (5500668,\n",
       "  ((5989650, '\"\"'),\n",
       "   '1996,13227,1994,\"CA\",\"\",635240,2,20,347,2,23,17,9,1,0.7901,0.6644,2,8.2941,0.2,0.1765,0.625,0.5556')),\n",
       " (5366796,\n",
       "  ((5935696, '\"NY\"'),\n",
       "   '1994,12744,1992,\"DE\",\"\",254145,3,27,428,6,69,8,10,1,0.18,0,3.6,9.75,0,0,0.3,0.3'))]"
      ]
     },
     "execution_count": 14,
     "metadata": {},
     "output_type": "execute_result"
    }
   ],
   "source": [
    "bbb = aaa.join(yyy)\n",
    "bbb.take(10)"
   ]
  },
  {
   "cell_type": "markdown",
   "metadata": {},
   "source": [
    "#### Rearranging data so that it is (citing, citing state, cited, cited state)"
   ]
  },
  {
   "cell_type": "code",
   "execution_count": 15,
   "metadata": {},
   "outputs": [
    {
     "data": {
      "text/plain": [
       "[(5935432, ('\"\"', 5304348, '\"CA\"'))]"
      ]
     },
     "execution_count": 15,
     "metadata": {},
     "output_type": "execute_result"
    }
   ],
   "source": [
    "ccc = bbb.map(lambda xs: (xs[1][0][0],(xs[1][0][1],xs[0],xs[1][1].split(',')[4])))\n",
    "ccc.take(1)"
   ]
  },
  {
   "cell_type": "code",
   "execution_count": 16,
   "metadata": {},
   "outputs": [
    {
     "data": {
      "text/plain": [
       "[(5935432, ('\"\"', 5304348, '\"CA\"')),\n",
       " (6002475, ('\"OH\"', 5304348, '\"CA\"')),\n",
       " (5958253, ('\"\"', 5304348, '\"CA\"')),\n",
       " (5935536, ('\"FL\"', 5540244, '\"AR\"')),\n",
       " (5935608, ('\"\"', 5413788, '\"\"')),\n",
       " (5935624, ('\"WI\"', 5366736, '\"GA\"')),\n",
       " (5968565, ('\"OK\"', 5366736, '\"GA\"')),\n",
       " (5935688, ('\"\"', 5500668, '\"\"')),\n",
       " (5989650, ('\"\"', 5500668, '\"\"')),\n",
       " (5935696, ('\"NY\"', 5366796, '\"\"'))]"
      ]
     },
     "execution_count": 16,
     "metadata": {},
     "output_type": "execute_result"
    }
   ],
   "source": [
    "ccc.take(10)"
   ]
  },
  {
   "cell_type": "code",
   "execution_count": 17,
   "metadata": {},
   "outputs": [
    {
     "data": {
      "text/plain": [
       "[(5935432, '\"\"', 5304348, '\"CA\"'),\n",
       " (6002475, '\"OH\"', 5304348, '\"CA\"'),\n",
       " (5958253, '\"\"', 5304348, '\"CA\"'),\n",
       " (5935536, '\"FL\"', 5540244, '\"AR\"'),\n",
       " (5935608, '\"\"', 5413788, '\"\"'),\n",
       " (5935624, '\"WI\"', 5366736, '\"GA\"'),\n",
       " (5968565, '\"OK\"', 5366736, '\"GA\"'),\n",
       " (5935688, '\"\"', 5500668, '\"\"'),\n",
       " (5989650, '\"\"', 5500668, '\"\"'),\n",
       " (5935696, '\"NY\"', 5366796, '\"\"')]"
      ]
     },
     "execution_count": 17,
     "metadata": {},
     "output_type": "execute_result"
    }
   ],
   "source": [
    "ddd = ccc.map(lambda xs: (xs[0],xs[1][0],xs[1][1],xs[1][2]))\n",
    "ddd.take(10)"
   ]
  },
  {
   "cell_type": "markdown",
   "metadata": {},
   "source": [
    "#### Removing empty strings and getting same state citations using filter"
   ]
  },
  {
   "cell_type": "code",
   "execution_count": 18,
   "metadata": {},
   "outputs": [],
   "source": [
    "eee = ddd.filter(lambda xs: xs[1]!='\"\"' and xs[3]!='\"\"' and xs[1]==xs[3])"
   ]
  },
  {
   "cell_type": "code",
   "execution_count": 19,
   "metadata": {},
   "outputs": [
    {
     "data": {
      "text/plain": [
       "[(5935712, '\"NY\"', 5269740, '\"NY\"'),\n",
       " (5998033, '\"NY\"', 5269740, '\"NY\"'),\n",
       " (5960245, '\"NY\"', 5269740, '\"NY\"'),\n",
       " (5935712, '\"NY\"', 5480724, '\"NY\"'),\n",
       " (5998033, '\"NY\"', 5480724, '\"NY\"'),\n",
       " (5960245, '\"NY\"', 5480724, '\"NY\"'),\n",
       " (5935784, '\"IA\"', 5550024, '\"IA\"'),\n",
       " (5939264, '\"IA\"', 5550024, '\"IA\"'),\n",
       " (5935960, '\"CT\"', 5359068, '\"CT\"'),\n",
       " (5936224, '\"WA\"', 5553084, '\"WA\"')]"
      ]
     },
     "execution_count": 19,
     "metadata": {},
     "output_type": "execute_result"
    }
   ],
   "source": [
    "eee.take(10)"
   ]
  },
  {
   "cell_type": "code",
   "execution_count": 20,
   "metadata": {},
   "outputs": [
    {
     "data": {
      "text/plain": [
       "[(5935712, ('\"NY\"', 5269740, '\"NY\"')),\n",
       " (5998033, ('\"NY\"', 5269740, '\"NY\"')),\n",
       " (5960245, ('\"NY\"', 5269740, '\"NY\"')),\n",
       " (5935712, ('\"NY\"', 5480724, '\"NY\"')),\n",
       " (5998033, ('\"NY\"', 5480724, '\"NY\"')),\n",
       " (5960245, ('\"NY\"', 5480724, '\"NY\"')),\n",
       " (5935784, ('\"IA\"', 5550024, '\"IA\"')),\n",
       " (5939264, ('\"IA\"', 5550024, '\"IA\"')),\n",
       " (5935960, ('\"CT\"', 5359068, '\"CT\"')),\n",
       " (5936224, ('\"WA\"', 5553084, '\"WA\"'))]"
      ]
     },
     "execution_count": 20,
     "metadata": {},
     "output_type": "execute_result"
    }
   ],
   "source": [
    "# keeping it in (k,v) format\n",
    "fff = eee.map(lambda xs: (xs[0],(xs[1],xs[2],xs[3])))\n",
    "fff.take(10)"
   ]
  },
  {
   "cell_type": "markdown",
   "metadata": {},
   "source": [
    "#### Grouping by key and counting the length which gives us the count of same citations"
   ]
  },
  {
   "cell_type": "code",
   "execution_count": 21,
   "metadata": {},
   "outputs": [],
   "source": [
    "ggg = fff.groupByKey().mapValues(len).sortBy(lambda a: a[1], ascending=False)"
   ]
  },
  {
   "cell_type": "code",
   "execution_count": 22,
   "metadata": {},
   "outputs": [
    {
     "data": {
      "text/plain": [
       "[(5959466, 94),\n",
       " (6008204, 80),\n",
       " (5952345, 78),\n",
       " (5999972, 77),\n",
       " (5987245, 76),\n",
       " (5958954, 76),\n",
       " (5998655, 76),\n",
       " (5951547, 73),\n",
       " (5980517, 73),\n",
       " (5998471, 65)]"
      ]
     },
     "execution_count": 22,
     "metadata": {},
     "output_type": "execute_result"
    }
   ],
   "source": [
    "ggg.take(10)"
   ]
  },
  {
   "cell_type": "markdown",
   "metadata": {},
   "source": [
    "#### Joining it with patent info to add same state citations as a column"
   ]
  },
  {
   "cell_type": "code",
   "execution_count": 23,
   "metadata": {},
   "outputs": [
    {
     "data": {
      "text/plain": [
       "[(5200112,\n",
       "  ('1993,12149,1991,\"US\",\"NY\",280070,2,19,252,1,19,1,13,1,0.8521,0,4,2,0,0,0.1667,0.1538',\n",
       "   None)),\n",
       " (5200128,\n",
       "  ('1993,12149,1992,\"IT\",\"\",690995,3,4,264,5,51,5,1,0.8,0,0.375,2,19,0,0,0,0',\n",
       "   None)),\n",
       " (5200144,\n",
       "  ('1993,12149,1992,\"US\",\"ID\",597195,6,4,376,4,44,5,1,1,0,0.32,2,13.6,0.4,0.4,0,0',\n",
       "   None)),\n",
       " (5200160,\n",
       "  ('1993,12149,1991,\"US\",\"PA\",154240,2,18,423,1,19,9,6,1,0.5,0.1975,4,5.4444,0,0,0.8333,0.8333',\n",
       "   None)),\n",
       " (5200176,\n",
       "  ('1993,12149,1989,\"US\",\"CA\",218000,2,21,424,3,31,4,9,1,0.6173,0.375,6.3333,3.5,0,0,0,0',\n",
       "   None)),\n",
       " (5200192,\n",
       "  ('1993,12149,1988,\"DE\",\"\",,1,23,424,3,31,5,2,1,0,0.32,6.5,8,,,,', None)),\n",
       " (5200208,\n",
       "  ('1993,12149,1988,\"US\",\"OH\",601635,2,18,425,5,51,9,4,0.8889,0.375,0.2188,8.5,16.8889,0,0,0,0',\n",
       "   None)),\n",
       " (5200224,\n",
       "  ('1993,12149,1991,\"US\",\"PA\",416145,2,10,426,6,61,12,1,0.9167,0,0.5455,6,16,0.2,0.0833,0,0',\n",
       "   None)),\n",
       " (5200240,\n",
       "  ('1993,12149,1991,\"CA\",\"\",,1,11,428,6,69,5,6,1,0.6667,0.48,4.3333,12,,,,',\n",
       "   None)),\n",
       " (5200256,\n",
       "  ('1993,12149,1989,\"US\",\"LA\",,1,16,428,6,69,7,16,1,0.8281,0.5714,5.8125,8.5714,,,,',\n",
       "   None))]"
      ]
     },
     "execution_count": 23,
     "metadata": {},
     "output_type": "execute_result"
    }
   ],
   "source": [
    "hhh = yyy.leftOuterJoin(ggg)\n",
    "hhh.take(10)"
   ]
  },
  {
   "cell_type": "code",
   "execution_count": 29,
   "metadata": {},
   "outputs": [],
   "source": [
    "#handling none type\n",
    "def none1(a):\n",
    "    if(a[1][1] == None):\n",
    "        return (a[0],(a[1][0],0))\n",
    "    else:\n",
    "        return a\n",
    "iii = hhh.map(none1)"
   ]
  },
  {
   "cell_type": "code",
   "execution_count": 30,
   "metadata": {},
   "outputs": [
    {
     "data": {
      "text/plain": [
       "[(5200112,\n",
       "  ('1993,12149,1991,\"US\",\"NY\",280070,2,19,252,1,19,1,13,1,0.8521,0,4,2,0,0,0.1667,0.1538',\n",
       "   0)),\n",
       " (5200128,\n",
       "  ('1993,12149,1992,\"IT\",\"\",690995,3,4,264,5,51,5,1,0.8,0,0.375,2,19,0,0,0,0',\n",
       "   0)),\n",
       " (5200144,\n",
       "  ('1993,12149,1992,\"US\",\"ID\",597195,6,4,376,4,44,5,1,1,0,0.32,2,13.6,0.4,0.4,0,0',\n",
       "   0)),\n",
       " (5200160,\n",
       "  ('1993,12149,1991,\"US\",\"PA\",154240,2,18,423,1,19,9,6,1,0.5,0.1975,4,5.4444,0,0,0.8333,0.8333',\n",
       "   0)),\n",
       " (5200176,\n",
       "  ('1993,12149,1989,\"US\",\"CA\",218000,2,21,424,3,31,4,9,1,0.6173,0.375,6.3333,3.5,0,0,0,0',\n",
       "   0)),\n",
       " (5200192,\n",
       "  ('1993,12149,1988,\"DE\",\"\",,1,23,424,3,31,5,2,1,0,0.32,6.5,8,,,,', 0)),\n",
       " (5200208,\n",
       "  ('1993,12149,1988,\"US\",\"OH\",601635,2,18,425,5,51,9,4,0.8889,0.375,0.2188,8.5,16.8889,0,0,0,0',\n",
       "   0)),\n",
       " (5200224,\n",
       "  ('1993,12149,1991,\"US\",\"PA\",416145,2,10,426,6,61,12,1,0.9167,0,0.5455,6,16,0.2,0.0833,0,0',\n",
       "   0)),\n",
       " (5200240,\n",
       "  ('1993,12149,1991,\"CA\",\"\",,1,11,428,6,69,5,6,1,0.6667,0.48,4.3333,12,,,,',\n",
       "   0)),\n",
       " (5200256,\n",
       "  ('1993,12149,1989,\"US\",\"LA\",,1,16,428,6,69,7,16,1,0.8281,0.5714,5.8125,8.5714,,,,',\n",
       "   0))]"
      ]
     },
     "execution_count": 30,
     "metadata": {},
     "output_type": "execute_result"
    }
   ],
   "source": [
    "iii.take(10)"
   ]
  },
  {
   "cell_type": "markdown",
   "metadata": {},
   "source": [
    "#### Final output sorted based on count of same citations"
   ]
  },
  {
   "cell_type": "code",
   "execution_count": 31,
   "metadata": {},
   "outputs": [
    {
     "data": {
      "text/plain": [
       "[(5959466,\n",
       "  ('1999,14515,1997,\"US\",\"CA\",5310,2,,326,4,46,159,0,1,,0.6186,,4.8868,0.0455,0.044,,',\n",
       "   94)),\n",
       " (6008204,\n",
       "  ('1999,14606,1998,\"US\",\"CA\",749584,2,,514,3,31,121,0,1,,0.7415,,5,0.0085,0.0083,,',\n",
       "   80)),\n",
       " (5952345,\n",
       "  ('1999,14501,1997,\"US\",\"CA\",749584,2,,514,3,31,118,0,1,,0.7442,,5.1102,0,0,,',\n",
       "   78)),\n",
       " (5999972,\n",
       "  ('1999,14585,1996,\"US\",\"CA\",551495,2,,709,2,22,352,0,1,,0.8714,,4.0398,0.0117,0.0114,,',\n",
       "   77)),\n",
       " (5958954,\n",
       "  ('1999,14515,1997,\"US\",\"CA\",749584,2,,514,3,31,116,0,1,,0.7397,,5.181,0,0,,',\n",
       "   76)),\n",
       " (5987245,\n",
       "  ('1999,14564,1996,\"US\",\"CA\",551495,2,,709,2,22,341,0,1,,0.8737,,4.0587,0.0121,0.0117,,',\n",
       "   76)),\n",
       " (5998655,\n",
       "  ('1999,14585,1998,\"US\",\"CA\",,1,,560,1,14,114,0,1,,0.7387,,5.1667,,,,', 76)),\n",
       " (5980517,\n",
       "  ('1999,14557,1998,\"US\",\"CA\",733846,2,,606,3,32,241,0,1,,0.7394,,8.3776,0,0,,',\n",
       "   73)),\n",
       " (5951547,\n",
       "  ('1999,14501,1997,\"US\",\"CA\",733846,2,,606,3,32,242,0,1,,0.7382,,8.3471,0,0,,',\n",
       "   73)),\n",
       " (5998471,\n",
       "  ('1999,14585,1998,\"US\",\"CA\",749584,2,,514,3,31,103,0,1,,0.7151,,5.5825,0,0,,',\n",
       "   65))]"
      ]
     },
     "execution_count": 31,
     "metadata": {},
     "output_type": "execute_result"
    }
   ],
   "source": [
    "output = iii.sortBy(lambda a: a[1][1], ascending=False)\n",
    "output.take(10)"
   ]
  },
  {
   "cell_type": "code",
   "execution_count": 32,
   "metadata": {},
   "outputs": [
    {
     "data": {
      "text/plain": [
       "800000"
      ]
     },
     "execution_count": 32,
     "metadata": {},
     "output_type": "execute_result"
    }
   ],
   "source": [
    "output.count()"
   ]
  },
  {
   "cell_type": "code",
   "execution_count": null,
   "metadata": {},
   "outputs": [],
   "source": []
  }
 ],
 "metadata": {
  "kernelspec": {
   "display_name": "Python 3",
   "language": "python",
   "name": "python3"
  },
  "language_info": {
   "codemirror_mode": {
    "name": "ipython",
    "version": 3
   },
   "file_extension": ".py",
   "mimetype": "text/x-python",
   "name": "python",
   "nbconvert_exporter": "python",
   "pygments_lexer": "ipython3",
   "version": "3.6.7"
  }
 },
 "nbformat": 4,
 "nbformat_minor": 2
}
