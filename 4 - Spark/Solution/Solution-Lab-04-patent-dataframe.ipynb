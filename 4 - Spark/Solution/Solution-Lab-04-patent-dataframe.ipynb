{
 "cells": [
  {
   "cell_type": "markdown",
   "metadata": {},
   "source": [
    "# CSCI 4253 / 5253 - Lab #4 - Patent Problem with Spark DataFrames\n",
    "<div>\n",
    " <h2> CSCI 4283 / 5253 \n",
    "  <IMG SRC=\"https://www.colorado.edu/cs/profiles/express/themes/cuspirit/logo.png\" WIDTH=50 ALIGN=\"right\"/> </h2>\n",
    "</div>"
   ]
  },
  {
   "cell_type": "markdown",
   "metadata": {},
   "source": [
    "### Solution using Dataframe: Shreyas Gopalakrishna"
   ]
  },
  {
   "cell_type": "markdown",
   "metadata": {},
   "source": [
    "This [Spark cheatsheet](https://s3.amazonaws.com/assets.datacamp.com/blog_assets/PySpark_SQL_Cheat_Sheet_Python.pdf) is useful as is [this reference on doing joins in Spark dataframe](http://www.learnbymarketing.com/1100/pyspark-joins-by-example/).\n",
    "\n",
    "The [DataBricks company has one of the better reference manuals for PySpark](https://docs.databricks.com/spark/latest/dataframes-datasets/index.html) -- they show you how to perform numerous common data operations such as joins, aggregation operations following `groupBy` and the like."
   ]
  },
  {
   "cell_type": "code",
   "execution_count": 1,
   "metadata": {},
   "outputs": [],
   "source": [
    "from pyspark import SparkContext, SparkConf\n",
    "from pyspark.sql import SparkSession"
   ]
  },
  {
   "cell_type": "markdown",
   "metadata": {},
   "source": [
    "The following aggregation functions may be useful -- [these can be used to aggregate results of `groupby` operations](https://docs.databricks.com/spark/latest/dataframes-datasets/introduction-to-dataframes-python.html#example-aggregations-using-agg-and-countdistinct). More documentation is at the [PySpark SQL Functions manual](https://spark.apache.org/docs/2.3.0/api/python/pyspark.sql.html#module-pyspark.sql.functions). Feel free to use other functions from that library."
   ]
  },
  {
   "cell_type": "code",
   "execution_count": 2,
   "metadata": {},
   "outputs": [],
   "source": [
    "from pyspark.sql.functions import col, count, countDistinct"
   ]
  },
  {
   "cell_type": "markdown",
   "metadata": {},
   "source": [
    "Create our session as described in the tutorials"
   ]
  },
  {
   "cell_type": "code",
   "execution_count": 2,
   "metadata": {},
   "outputs": [],
   "source": [
    "spark = SparkSession \\\n",
    "    .builder \\\n",
    "    .appName(\"Lab4-Dataframe\") \\\n",
    "    .master(\"local[*]\")\\\n",
    "    .getOrCreate()"
   ]
  },
  {
   "cell_type": "markdown",
   "metadata": {},
   "source": [
    "Read in the citations and patents data and check that the data makes sense. Note that unlike in the RDD solution, the data is automatically inferred to be Integer() types."
   ]
  },
  {
   "cell_type": "code",
   "execution_count": 3,
   "metadata": {},
   "outputs": [],
   "source": [
    "citations = spark.read.load('cite75_99.txt.gz',\n",
    "            format=\"csv\", sep=\",\", header=True,\n",
    "            compression=\"gzip\",\n",
    "            inferSchema=\"true\")"
   ]
  },
  {
   "cell_type": "code",
   "execution_count": 4,
   "metadata": {},
   "outputs": [
    {
     "name": "stdout",
     "output_type": "stream",
     "text": [
      "+-------+-------+\n",
      "| CITING|  CITED|\n",
      "+-------+-------+\n",
      "|3858241| 956203|\n",
      "|3858241|1324234|\n",
      "|3858241|3398406|\n",
      "|3858241|3557384|\n",
      "|3858241|3634889|\n",
      "+-------+-------+\n",
      "only showing top 5 rows\n",
      "\n"
     ]
    }
   ],
   "source": [
    "citations.show(5)"
   ]
  },
  {
   "cell_type": "code",
   "execution_count": 5,
   "metadata": {},
   "outputs": [],
   "source": [
    "patents = spark.read.load('apat63_99.txt.gz',\n",
    "            format=\"csv\", sep=\",\", header=True,\n",
    "            compression=\"gzip\",\n",
    "            inferSchema=\"true\")"
   ]
  },
  {
   "cell_type": "code",
   "execution_count": 6,
   "metadata": {},
   "outputs": [
    {
     "data": {
      "text/plain": [
       "2923922"
      ]
     },
     "execution_count": 6,
     "metadata": {},
     "output_type": "execute_result"
    }
   ],
   "source": [
    "patents.count()"
   ]
  },
  {
   "cell_type": "code",
   "execution_count": 7,
   "metadata": {},
   "outputs": [
    {
     "name": "stdout",
     "output_type": "stream",
     "text": [
      "+-------+-----+-----+-------+-------+-------+--------+-------+------+------+---+------+-----+--------+--------+-------+--------+--------+--------+--------+--------+--------+--------+\n",
      "| PATENT|GYEAR|GDATE|APPYEAR|COUNTRY|POSTATE|ASSIGNEE|ASSCODE|CLAIMS|NCLASS|CAT|SUBCAT|CMADE|CRECEIVE|RATIOCIT|GENERAL|ORIGINAL|FWDAPLAG|BCKGTLAG|SELFCTUB|SELFCTLB|SECDUPBD|SECDLWBD|\n",
      "+-------+-----+-----+-------+-------+-------+--------+-------+------+------+---+------+-----+--------+--------+-------+--------+--------+--------+--------+--------+--------+--------+\n",
      "|3070801| 1963| 1096|   null|     BE|   null|    null|      1|  null|   269|  6|    69| null|       1|    null|    0.0|    null|    null|    null|    null|    null|    null|    null|\n",
      "|3070802| 1963| 1096|   null|     US|     TX|    null|      1|  null|     2|  6|    63| null|       0|    null|   null|    null|    null|    null|    null|    null|    null|    null|\n",
      "|3070803| 1963| 1096|   null|     US|     IL|    null|      1|  null|     2|  6|    63| null|       9|    null| 0.3704|    null|    null|    null|    null|    null|    null|    null|\n",
      "|3070804| 1963| 1096|   null|     US|     OH|    null|      1|  null|     2|  6|    63| null|       3|    null| 0.6667|    null|    null|    null|    null|    null|    null|    null|\n",
      "|3070805| 1963| 1096|   null|     US|     CA|    null|      1|  null|     2|  6|    63| null|       1|    null|    0.0|    null|    null|    null|    null|    null|    null|    null|\n",
      "+-------+-----+-----+-------+-------+-------+--------+-------+------+------+---+------+-----+--------+--------+-------+--------+--------+--------+--------+--------+--------+--------+\n",
      "only showing top 5 rows\n",
      "\n"
     ]
    }
   ],
   "source": [
    "patents.show(5)"
   ]
  },
  {
   "cell_type": "markdown",
   "metadata": {},
   "source": [
    "#### Joining Citations data with Patent data such that the cited number matches the patent info"
   ]
  },
  {
   "cell_type": "code",
   "execution_count": 8,
   "metadata": {},
   "outputs": [],
   "source": [
    "innerJoin = citations.join(patents, citations.CITED == patents.PATENT)"
   ]
  },
  {
   "cell_type": "code",
   "execution_count": 9,
   "metadata": {},
   "outputs": [
    {
     "name": "stdout",
     "output_type": "stream",
     "text": [
      "+-------+-------+-------+-----+-----+-------+-------+-------+--------+-------+------+------+---+------+-----+--------+--------+-------+--------+--------+--------+--------+--------+--------+--------+\n",
      "| CITING|  CITED| PATENT|GYEAR|GDATE|APPYEAR|COUNTRY|POSTATE|ASSIGNEE|ASSCODE|CLAIMS|NCLASS|CAT|SUBCAT|CMADE|CRECEIVE|RATIOCIT|GENERAL|ORIGINAL|FWDAPLAG|BCKGTLAG|SELFCTUB|SELFCTLB|SECDUPBD|SECDLWBD|\n",
      "+-------+-------+-------+-----+-----+-------+-------+-------+--------+-------+------+------+---+------+-----+--------+--------+-------+--------+--------+--------+--------+--------+--------+--------+\n",
      "|3951073|3071083|3071083| 1963| 1096|   null|     AT|   null|    null|      1|  null|   104|  5|    55| null|       3|    null|    0.0|    null|    null|    null|    null|    null|    null|    null|\n",
      "|4401034|3071083|3071083| 1963| 1096|   null|     AT|   null|    null|      1|  null|   104|  5|    55| null|       3|    null|    0.0|    null|    null|    null|    null|    null|    null|    null|\n",
      "|4802416|3071083|3071083| 1963| 1096|   null|     AT|   null|    null|      1|  null|   104|  5|    55| null|       3|    null|    0.0|    null|    null|    null|    null|    null|    null|    null|\n",
      "|4045189|3071452|3071452| 1963| 1096|   null|     BE|   null|    null|      3|  null|   252|  1|    19| null|       2|    null|    0.0|    null|    null|    null|    null|    null|    null|    null|\n",
      "|4192656|3071452|3071452| 1963| 1096|   null|     BE|   null|    null|      3|  null|   252|  1|    19| null|       2|    null|    0.0|    null|    null|    null|    null|    null|    null|    null|\n",
      "|3949375|3071753|3071753| 1963| 1096|   null|     US|     MN|    null|      2|  null|   340|  2|    21| null|       5|    null|    0.8|    null|    null|    null|    null|    null|    null|    null|\n",
      "|4120573|3071753|3071753| 1963| 1096|   null|     US|     MN|    null|      2|  null|   340|  2|    21| null|       5|    null|    0.8|    null|    null|    null|    null|    null|    null|    null|\n",
      "|4271479|3071753|3071753| 1963| 1096|   null|     US|     MN|    null|      2|  null|   340|  2|    21| null|       5|    null|    0.8|    null|    null|    null|    null|    null|    null|    null|\n",
      "|4345315|3071753|3071753| 1963| 1096|   null|     US|     MN|    null|      2|  null|   340|  2|    21| null|       5|    null|    0.8|    null|    null|    null|    null|    null|    null|    null|\n",
      "|4496943|3071753|3071753| 1963| 1096|   null|     US|     MN|    null|      2|  null|   340|  2|    21| null|       5|    null|    0.8|    null|    null|    null|    null|    null|    null|    null|\n",
      "+-------+-------+-------+-----+-----+-------+-------+-------+--------+-------+------+------+---+------+-----+--------+--------+-------+--------+--------+--------+--------+--------+--------+--------+\n",
      "only showing top 10 rows\n",
      "\n"
     ]
    }
   ],
   "source": [
    "innerJoin.show(10)"
   ]
  },
  {
   "cell_type": "markdown",
   "metadata": {},
   "source": [
    "#### Selecting only the Cited, Cited State and Citing info from the join table. Renaming the table name so that it can be resued without errors"
   ]
  },
  {
   "cell_type": "code",
   "execution_count": 10,
   "metadata": {},
   "outputs": [],
   "source": [
    "mr1 = innerJoin.select(\"CITED\",\"POSTATE\",\"CITING\")\n",
    "mr1 = mr1.toDF(\"CITED1\", \"POSTATE1\", \"CITING1\")"
   ]
  },
  {
   "cell_type": "code",
   "execution_count": 11,
   "metadata": {},
   "outputs": [
    {
     "name": "stdout",
     "output_type": "stream",
     "text": [
      "+-------+--------+-------+\n",
      "| CITED1|POSTATE1|CITING1|\n",
      "+-------+--------+-------+\n",
      "|3071083|    null|3951073|\n",
      "|3071083|    null|4401034|\n",
      "|3071083|    null|4802416|\n",
      "|3071452|    null|4045189|\n",
      "|3071452|    null|4192656|\n",
      "|3071753|      MN|3949375|\n",
      "|3071753|      MN|4120573|\n",
      "|3071753|      MN|4271479|\n",
      "|3071753|      MN|4345315|\n",
      "|3071753|      MN|4496943|\n",
      "+-------+--------+-------+\n",
      "only showing top 10 rows\n",
      "\n"
     ]
    }
   ],
   "source": [
    "mr1.show(10)"
   ]
  },
  {
   "cell_type": "markdown",
   "metadata": {},
   "source": [
    "#### Joining the generated table again with the patent data to obtain the state of citing "
   ]
  },
  {
   "cell_type": "code",
   "execution_count": 12,
   "metadata": {},
   "outputs": [],
   "source": [
    "inter = mr1.join(patents, mr1.CITING1 == patents.PATENT)"
   ]
  },
  {
   "cell_type": "code",
   "execution_count": 13,
   "metadata": {},
   "outputs": [
    {
     "name": "stdout",
     "output_type": "stream",
     "text": [
      "+-------+--------+-------+-------+-----+-----+-------+-------+-------+--------+-------+------+------+---+------+-----+--------+--------+-------+--------+--------+--------+--------+--------+--------+--------+\n",
      "| CITED1|POSTATE1|CITING1| PATENT|GYEAR|GDATE|APPYEAR|COUNTRY|POSTATE|ASSIGNEE|ASSCODE|CLAIMS|NCLASS|CAT|SUBCAT|CMADE|CRECEIVE|RATIOCIT|GENERAL|ORIGINAL|FWDAPLAG|BCKGTLAG|SELFCTUB|SELFCTLB|SECDUPBD|SECDLWBD|\n",
      "+-------+--------+-------+-------+-----+-----+-------+-------+-------+--------+-------+------+------+---+------+-----+--------+--------+-------+--------+--------+--------+--------+--------+--------+--------+\n",
      "|3638586|      CA|3858527|3858527| 1975| 5485|   1973|     CH|   null|  336690|      3|    10|   108|  6|    69|    7|       1|  0.4286|    0.0|     0.0|     2.0| 19.5714|     0.0|     0.0|     0.0|     0.0|\n",
      "|3699902|      OH|3858527|3858527| 1975| 5485|   1973|     CH|   null|  336690|      3|    10|   108|  6|    69|    7|       1|  0.4286|    0.0|     0.0|     2.0| 19.5714|     0.0|     0.0|     0.0|     0.0|\n",
      "|3602157|      TX|3858527|3858527| 1975| 5485|   1973|     CH|   null|  336690|      3|    10|   108|  6|    69|    7|       1|  0.4286|    0.0|     0.0|     2.0| 19.5714|     0.0|     0.0|     0.0|     0.0|\n",
      "|3815160|      NY|3858597|3858597| 1975| 5485|   1973|     US|     MT|    null|      1|     6|   137|  6|    69|    2|       5|     1.0|   0.48|     0.0|     6.4|     2.0|    null|    null|    null|    null|\n",
      "|3675252|      AZ|3858597|3858597| 1975| 5485|   1973|     US|     MT|    null|      1|     6|   137|  6|    69|    2|       5|     1.0|   0.48|     0.0|     6.4|     2.0|    null|    null|    null|    null|\n",
      "|3741706|      OH|3859029|3859029| 1975| 5485|   1974|     US|     NY|    null|      1|     9|   425|  5|    51|    6|       1|  0.3333|    0.0|     0.0|    20.0|    32.5|    null|    null|    null|    null|\n",
      "|3685936|      OH|3859029|3859029| 1975| 5485|   1974|     US|     NY|    null|      1|     9|   425|  5|    51|    6|       1|  0.3333|    0.0|     0.0|    20.0|    32.5|    null|    null|    null|    null|\n",
      "|3368197|      MI|3859627|3859627| 1975| 5485|   1972|     US|     MI|  332120|      2|    14|   180|  5|    55|    7|       2|     1.0|    0.5|  0.4082|    12.5|  6.8571|     0.0|     0.0|     0.0|     0.0|\n",
      "|3226674|    null|3859627|3859627| 1975| 5485|   1972|     US|     MI|  332120|      2|    14|   180|  5|    55|    7|       2|     1.0|    0.5|  0.4082|    12.5|  6.8571|     0.0|     0.0|     0.0|     0.0|\n",
      "|3359539|      CA|3859627|3859627| 1975| 5485|   1972|     US|     MI|  332120|      2|    14|   180|  5|    55|    7|       2|     1.0|    0.5|  0.4082|    12.5|  6.8571|     0.0|     0.0|     0.0|     0.0|\n",
      "+-------+--------+-------+-------+-----+-----+-------+-------+-------+--------+-------+------+------+---+------+-----+--------+--------+-------+--------+--------+--------+--------+--------+--------+--------+\n",
      "only showing top 10 rows\n",
      "\n"
     ]
    }
   ],
   "source": [
    "inter.show(10)"
   ]
  },
  {
   "cell_type": "markdown",
   "metadata": {},
   "source": [
    "#### Selecting only the Cited, Cited State, Citing and Citing state to obtain the intermediate table."
   ]
  },
  {
   "cell_type": "code",
   "execution_count": 14,
   "metadata": {},
   "outputs": [],
   "source": [
    "mr2 = inter.select(\"CITED1\",\"POSTATE1\",\"CITING1\",\"POSTATE\")\n",
    "mr2 = mr2.toDF(\"CITED2\", \"POSTATE2\", \"CITING2\",\"POSTATE2_CT\")"
   ]
  },
  {
   "cell_type": "code",
   "execution_count": 15,
   "metadata": {},
   "outputs": [
    {
     "name": "stdout",
     "output_type": "stream",
     "text": [
      "+-------+--------+-------+-----------+\n",
      "| CITED2|POSTATE2|CITING2|POSTATE2_CT|\n",
      "+-------+--------+-------+-----------+\n",
      "|3638586|      CA|3858527|       null|\n",
      "|3699902|      OH|3858527|       null|\n",
      "|3602157|      TX|3858527|       null|\n",
      "|3815160|      NY|3858597|         MT|\n",
      "|3675252|      AZ|3858597|         MT|\n",
      "|3741706|      OH|3859029|         NY|\n",
      "|3685936|      OH|3859029|         NY|\n",
      "|3368197|      MI|3859627|         MI|\n",
      "|3226674|    null|3859627|         MI|\n",
      "|3359539|      CA|3859627|         MI|\n",
      "+-------+--------+-------+-----------+\n",
      "only showing top 10 rows\n",
      "\n"
     ]
    }
   ],
   "source": [
    "mr2.show(10)"
   ]
  },
  {
   "cell_type": "markdown",
   "metadata": {},
   "source": [
    "#### Fildering based on same state, grouping on citing and counting the number of same state citations. Sorting to get largest at the top."
   ]
  },
  {
   "cell_type": "code",
   "execution_count": 16,
   "metadata": {},
   "outputs": [],
   "source": [
    "a = mr2.filter(\"POSTATE2 = POSTATE2_CT\").groupBy(\"CITING2\").count().sort(\"count\", ascending=False)"
   ]
  },
  {
   "cell_type": "code",
   "execution_count": 17,
   "metadata": {},
   "outputs": [
    {
     "name": "stdout",
     "output_type": "stream",
     "text": [
      "+-------+-----+\n",
      "|CITING2|count|\n",
      "+-------+-----+\n",
      "|5959466|  125|\n",
      "|5983822|  103|\n",
      "|6008204|  100|\n",
      "|5952345|   98|\n",
      "|5998655|   96|\n",
      "|5958954|   96|\n",
      "|5936426|   94|\n",
      "|5978329|   90|\n",
      "|5951547|   90|\n",
      "|5739256|   90|\n",
      "+-------+-----+\n",
      "only showing top 10 rows\n",
      "\n"
     ]
    }
   ],
   "source": [
    "a.show(10)"
   ]
  },
  {
   "cell_type": "code",
   "execution_count": 18,
   "metadata": {},
   "outputs": [
    {
     "data": {
      "text/plain": [
       "pyspark.sql.dataframe.DataFrame"
      ]
     },
     "execution_count": 18,
     "metadata": {},
     "output_type": "execute_result"
    }
   ],
   "source": [
    "type(a)"
   ]
  },
  {
   "cell_type": "markdown",
   "metadata": {},
   "source": [
    "#### Verifing count based on patent id individially "
   ]
  },
  {
   "cell_type": "code",
   "execution_count": 19,
   "metadata": {},
   "outputs": [
    {
     "name": "stdout",
     "output_type": "stream",
     "text": [
      "+-------+-----+\n",
      "|CITING2|count|\n",
      "+-------+-----+\n",
      "|5887243|   72|\n",
      "+-------+-----+\n",
      "\n"
     ]
    }
   ],
   "source": [
    "a.filter(a['CITING2'] == 5887243 ).show()\n",
    "#a.filter($\"CITING2\" = 6009554).collect()"
   ]
  },
  {
   "cell_type": "markdown",
   "metadata": {},
   "source": [
    "#### Joining the obtained table back to patent info to obtain the same state citations in each patent info"
   ]
  },
  {
   "cell_type": "code",
   "execution_count": 20,
   "metadata": {},
   "outputs": [
    {
     "name": "stdout",
     "output_type": "stream",
     "text": [
      "+-------+-----+-----+-------+-------+-------+--------+-------+------+------+---+------+-----+--------+--------+-------+--------+--------+--------+--------+--------+--------+--------+-------+-----+\n",
      "| PATENT|GYEAR|GDATE|APPYEAR|COUNTRY|POSTATE|ASSIGNEE|ASSCODE|CLAIMS|NCLASS|CAT|SUBCAT|CMADE|CRECEIVE|RATIOCIT|GENERAL|ORIGINAL|FWDAPLAG|BCKGTLAG|SELFCTUB|SELFCTLB|SECDUPBD|SECDLWBD|CITING2|count|\n",
      "+-------+-----+-----+-------+-------+-------+--------+-------+------+------+---+------+-----+--------+--------+-------+--------+--------+--------+--------+--------+--------+--------+-------+-----+\n",
      "|3070853| 1963| 1096|   null|     US|     FL|    null|      1|  null|    49|  5|    59| null|       0|    null|   null|    null|    null|    null|    null|    null|    null|    null|   null|    0|\n",
      "|3071083| 1963| 1096|   null|     AT|   null|    null|      1|  null|   104|  5|    55| null|       3|    null|    0.0|    null|    null|    null|    null|    null|    null|    null|   null|    0|\n",
      "|3071452| 1963| 1096|   null|     BE|   null|    null|      3|  null|   252|  1|    19| null|       2|    null|    0.0|    null|    null|    null|    null|    null|    null|    null|   null|    0|\n",
      "|3071635| 1963| 1096|   null|     US|     NJ|    null|      2|  null|   585|  1|    19| null|       0|    null|   null|    null|    null|    null|    null|    null|    null|    null|   null|    0|\n",
      "|3071741| 1963| 1096|   null|     US|     NY|    null|      6|  null|   333|  2|    21| null|       0|    null|   null|    null|    null|    null|    null|    null|    null|    null|   null|    0|\n",
      "|3071753| 1963| 1096|   null|     US|     MN|    null|      2|  null|   340|  2|    21| null|       5|    null|    0.8|    null|    null|    null|    null|    null|    null|    null|   null|    0|\n",
      "|3071941| 1963| 1103|   null|     DE|   null|    null|      3|  null|   464|  5|    53| null|       1|    null|    0.0|    null|    null|    null|    null|    null|    null|    null|   null|    0|\n",
      "|3072100| 1963| 1103|   null|     US|     IL|    null|      1|  null|   119|  6|    61| null|       5|    null|    0.0|    null|    null|    null|    null|    null|    null|    null|   null|    0|\n",
      "|3072274| 1963| 1103|   null|     US|     WI|    null|      1|  null|   414|  5|    51| null|       4|    null|    0.0|    null|    null|    null|    null|    null|    null|    null|   null|    0|\n",
      "|3072596| 1963| 1103|   null|     US|     MA|    null|      2|  null|   428|  6|    69| null|       0|    null|   null|    null|    null|    null|    null|    null|    null|    null|   null|    0|\n",
      "+-------+-----+-----+-------+-------+-------+--------+-------+------+------+---+------+-----+--------+--------+-------+--------+--------+--------+--------+--------+--------+--------+-------+-----+\n",
      "only showing top 10 rows\n",
      "\n"
     ]
    }
   ],
   "source": [
    "finalJoin = patents.join(a, patents.PATENT == a.CITING2, \"left_outer\").na.fill(0, \"count\")\n",
    "finalJoin.show(10)"
   ]
  },
  {
   "cell_type": "markdown",
   "metadata": {},
   "source": [
    "#### Final output selecting only the required columns"
   ]
  },
  {
   "cell_type": "code",
   "execution_count": 21,
   "metadata": {},
   "outputs": [],
   "source": [
    "output = finalJoin.select(\"PATENT\",\"GYEAR\",\"GDATE\",\"APPYEAR\",\"COUNTRY\",\"POSTATE\",\"ASSIGNEE\",\"ASSCODE\",\"CLAIMS\",\"NCLASS\",\"CAT\",\"SUBCAT\",\"CMADE\",\"CRECEIVE\",\"RATIOCIT\",\"GENERAL\",\"ORIGINAL\",\"FWDAPLAG\",\"BCKGTLAG\",\"SELFCTUB\",\"SELFCTLB\",\"SECDUPBD\",\"SECDLWBD\",\"count\")"
   ]
  },
  {
   "cell_type": "code",
   "execution_count": 22,
   "metadata": {},
   "outputs": [
    {
     "name": "stdout",
     "output_type": "stream",
     "text": [
      "+-------+-----+-----+-------+-------+-------+--------+-------+------+------+---+------+-----+--------+--------+-------+--------+--------+--------+--------+--------+--------+--------+-----+\n",
      "| PATENT|GYEAR|GDATE|APPYEAR|COUNTRY|POSTATE|ASSIGNEE|ASSCODE|CLAIMS|NCLASS|CAT|SUBCAT|CMADE|CRECEIVE|RATIOCIT|GENERAL|ORIGINAL|FWDAPLAG|BCKGTLAG|SELFCTUB|SELFCTLB|SECDUPBD|SECDLWBD|count|\n",
      "+-------+-----+-----+-------+-------+-------+--------+-------+------+------+---+------+-----+--------+--------+-------+--------+--------+--------+--------+--------+--------+--------+-----+\n",
      "|3070853| 1963| 1096|   null|     US|     FL|    null|      1|  null|    49|  5|    59| null|       0|    null|   null|    null|    null|    null|    null|    null|    null|    null|    0|\n",
      "|3071083| 1963| 1096|   null|     AT|   null|    null|      1|  null|   104|  5|    55| null|       3|    null|    0.0|    null|    null|    null|    null|    null|    null|    null|    0|\n",
      "|3071452| 1963| 1096|   null|     BE|   null|    null|      3|  null|   252|  1|    19| null|       2|    null|    0.0|    null|    null|    null|    null|    null|    null|    null|    0|\n",
      "|3071635| 1963| 1096|   null|     US|     NJ|    null|      2|  null|   585|  1|    19| null|       0|    null|   null|    null|    null|    null|    null|    null|    null|    null|    0|\n",
      "|3071741| 1963| 1096|   null|     US|     NY|    null|      6|  null|   333|  2|    21| null|       0|    null|   null|    null|    null|    null|    null|    null|    null|    null|    0|\n",
      "|3071753| 1963| 1096|   null|     US|     MN|    null|      2|  null|   340|  2|    21| null|       5|    null|    0.8|    null|    null|    null|    null|    null|    null|    null|    0|\n",
      "|3071941| 1963| 1103|   null|     DE|   null|    null|      3|  null|   464|  5|    53| null|       1|    null|    0.0|    null|    null|    null|    null|    null|    null|    null|    0|\n",
      "|3072100| 1963| 1103|   null|     US|     IL|    null|      1|  null|   119|  6|    61| null|       5|    null|    0.0|    null|    null|    null|    null|    null|    null|    null|    0|\n",
      "|3072274| 1963| 1103|   null|     US|     WI|    null|      1|  null|   414|  5|    51| null|       4|    null|    0.0|    null|    null|    null|    null|    null|    null|    null|    0|\n",
      "|3072596| 1963| 1103|   null|     US|     MA|    null|      2|  null|   428|  6|    69| null|       0|    null|   null|    null|    null|    null|    null|    null|    null|    null|    0|\n",
      "+-------+-----+-----+-------+-------+-------+--------+-------+------+------+---+------+-----+--------+--------+-------+--------+--------+--------+--------+--------+--------+--------+-----+\n",
      "only showing top 10 rows\n",
      "\n"
     ]
    }
   ],
   "source": [
    "output.show(10)"
   ]
  },
  {
   "cell_type": "code",
   "execution_count": 23,
   "metadata": {},
   "outputs": [
    {
     "data": {
      "text/plain": [
       "2923922"
      ]
     },
     "execution_count": 23,
     "metadata": {},
     "output_type": "execute_result"
    }
   ],
   "source": [
    "output.count()"
   ]
  },
  {
   "cell_type": "code",
   "execution_count": 24,
   "metadata": {},
   "outputs": [
    {
     "name": "stdout",
     "output_type": "stream",
     "text": [
      "+-------+-----+-----+-------+-------+-------+--------+-------+------+------+---+------+-----+--------+--------+-------+--------+--------+--------+--------+--------+--------+--------+-----+\n",
      "| PATENT|GYEAR|GDATE|APPYEAR|COUNTRY|POSTATE|ASSIGNEE|ASSCODE|CLAIMS|NCLASS|CAT|SUBCAT|CMADE|CRECEIVE|RATIOCIT|GENERAL|ORIGINAL|FWDAPLAG|BCKGTLAG|SELFCTUB|SELFCTLB|SECDUPBD|SECDLWBD|count|\n",
      "+-------+-----+-----+-------+-------+-------+--------+-------+------+------+---+------+-----+--------+--------+-------+--------+--------+--------+--------+--------+--------+--------+-----+\n",
      "|5959466| 1999|14515|   1997|     US|     CA|    5310|      2|  null|   326|  4|    46|  159|       0|     1.0|   null|  0.6186|    null|  4.8868|  0.0455|   0.044|    null|    null|  125|\n",
      "|5983822| 1999|14564|   1998|     US|     TX|  569900|      2|  null|   114|  5|    55|  200|       0|   0.995|   null|  0.7201|    null|   12.45|     0.0|     0.0|    null|    null|  103|\n",
      "|6008204| 1999|14606|   1998|     US|     CA|  749584|      2|  null|   514|  3|    31|  121|       0|     1.0|   null|  0.7415|    null|     5.0|  0.0085|  0.0083|    null|    null|  100|\n",
      "|5952345| 1999|14501|   1997|     US|     CA|  749584|      2|  null|   514|  3|    31|  118|       0|     1.0|   null|  0.7442|    null|  5.1102|     0.0|     0.0|    null|    null|   98|\n",
      "|5958954| 1999|14515|   1997|     US|     CA|  749584|      2|  null|   514|  3|    31|  116|       0|     1.0|   null|  0.7397|    null|   5.181|     0.0|     0.0|    null|    null|   96|\n",
      "|5998655| 1999|14585|   1998|     US|     CA|    null|      1|  null|   560|  1|    14|  114|       0|     1.0|   null|  0.7387|    null|  5.1667|    null|    null|    null|    null|   96|\n",
      "|5936426| 1999|14466|   1997|     US|     CA|    5310|      2|  null|   326|  4|    46|  178|       0|     1.0|   null|    0.58|    null| 11.2303|  0.0765|   0.073|    null|    null|   94|\n",
      "|5980517| 1999|14557|   1998|     US|     CA|  733846|      2|  null|   606|  3|    32|  241|       0|     1.0|   null|  0.7394|    null|  8.3776|     0.0|     0.0|    null|    null|   90|\n",
      "|5951547| 1999|14501|   1997|     US|     CA|  733846|      2|  null|   606|  3|    32|  242|       0|     1.0|   null|  0.7382|    null|  8.3471|     0.0|     0.0|    null|    null|   90|\n",
      "|5978329| 1999|14550|   1995|     US|     CA|  148925|      2|  null|   369|  2|    24|  145|       0|     1.0|   null|  0.5449|    null| 12.9241|  0.4196|  0.4138|    null|    null|   90|\n",
      "|5913855| 1999|14417|   1997|     US|     CA|  733846|      2|  null|   606|  3|    32|  242|       0|     1.0|   null|  0.7403|    null|  8.3595|     0.0|     0.0|    null|    null|   90|\n",
      "|5925042| 1999|14445|   1997|     US|     CA|  733846|      2|  null|   606|  3|    32|  242|       0|     1.0|   null|  0.7382|    null|  8.3471|     0.0|     0.0|    null|    null|   90|\n",
      "|5739256| 1998|13983|   1995|     US|     CA|   70060|      2|    15|   528|  1|    15|  453|       0|     1.0|   null|  0.8232|    null| 15.1104|  0.1124|  0.1082|    null|    null|   90|\n",
      "|5689485| 1997|13836|   1996|     US|     CA|  148925|      2|    30|   369|  2|    24|  138|       0|     1.0|   null|  0.5556|    null| 11.2174|  0.4307|  0.4275|    null|    null|   89|\n",
      "|5978331| 1999|14550|   1997|     US|     CA|  148925|      2|  null|   369|  2|    24|  148|       0|     1.0|   null|  0.5278|    null| 12.9459|  0.4014|  0.3986|    null|    null|   89|\n",
      "|5618907| 1997|13612|   1995|     US|     CA|   70060|      2|     6|   528|  1|    15|  453|       0|     1.0|   null|  0.8248|    null| 14.1369|  0.1103|   0.106|    null|    null|   89|\n",
      "|5917082| 1999|14424|   1997|     US|     CA|  749584|      2|  null|   560|  1|    14|  107|       0|     1.0|   null|  0.7206|    null|  5.4393|     0.0|     0.0|    null|    null|   89|\n",
      "|5928229| 1999|14452|   1997|     US|     CA|  733846|      2|  null|   606|  3|    32|  240|       0|     1.0|   null|  0.7407|    null|  8.4083|     0.0|     0.0|    null|    null|   89|\n",
      "|5602226| 1997|13556|   1995|     US|     CA|   70060|      2|    21|   528|  1|    15|  450|       0|     1.0|   null|  0.8273|    null| 14.1244|  0.1088|  0.1044|    null|    null|   88|\n",
      "|5847160| 1998|14221|   1997|     US|     CA|   19170|      2|    12|   549|  1|    14|  106|       0|     1.0|   null|  0.7246|    null|  4.4811|   0.835|  0.8113|    null|    null|   87|\n",
      "+-------+-----+-----+-------+-------+-------+--------+-------+------+------+---+------+-----+--------+--------+-------+--------+--------+--------+--------+--------+--------+--------+-----+\n",
      "only showing top 20 rows\n",
      "\n"
     ]
    }
   ],
   "source": [
    "output.sort(\"count\", ascending=False).show(20)"
   ]
  },
  {
   "cell_type": "code",
   "execution_count": null,
   "metadata": {},
   "outputs": [],
   "source": []
  }
 ],
 "metadata": {
  "kernelspec": {
   "display_name": "Python 3",
   "language": "python",
   "name": "python3"
  },
  "language_info": {
   "codemirror_mode": {
    "name": "ipython",
    "version": 3
   },
   "file_extension": ".py",
   "mimetype": "text/x-python",
   "name": "python",
   "nbconvert_exporter": "python",
   "pygments_lexer": "ipython3",
   "version": "3.6.7"
  }
 },
 "nbformat": 4,
 "nbformat_minor": 2
}
